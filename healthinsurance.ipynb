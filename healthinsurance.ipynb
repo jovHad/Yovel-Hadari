{
 "cells": [
  {
   "cell_type": "code",
   "execution_count": null,
   "id": "initial_id",
   "metadata": {
    "collapsed": true
   },
   "outputs": [],
   "source": [
    "import pandas as pd\n",
    "import matplotlib.pyplot as plt\n",
    "import seaborn as sns\n",
    "import numpy as np\n",
    "import csv"
   ]
  },
  {
   "metadata": {},
   "cell_type": "code",
   "outputs": [],
   "execution_count": null,
   "source": [
    "sns.set_palette(\"Set2\")\n",
    "pd.options.display.max_rows = None\n",
    "pd.options.display.max_columns = None\n",
    "# load in the insurance data frame\n",
    "df = pd.read_csv('insurance.csv')\n",
    "print(df.head())\n",
    "# descriptive statistics summary\n",
    "print(df.describe())"
   ],
   "id": "33cdcdf22ce0d9e2"
  },
  {
   "metadata": {},
   "cell_type": "code",
   "outputs": [],
   "execution_count": null,
   "source": [
    "# count of smokers get insurance grouped by smokers\n",
    "smokers = df['smoker'].value_counts()\n",
    "print(smokers)\n",
    "# countplot of smoker status frequency\n",
    "sns.countplot(df, x=\"smoker\", palette={\"no\": \"lightgreen\", \"yes\": \"lightblue\"})\n",
    "plt.xlabel('is smokes')\n",
    "plt.ylabel('count')\n",
    "plt.title('Count by Smokers getting Health Insurance')\n",
    "plt.show()\n",
    "# the percentages of smokers gets insurance grouped by smokers\n",
    "print(df[\"smoker\"].describe())\n",
    "smokers_presenege = df['smoker'].value_counts(normalize=True)\n",
    "print(smokers_presenege)\n",
    "plt.bar(smokers.index, smokers_presenege, color=['lightgreen', \"lightblue\"])\n",
    "plt.xlabel('is smokes')\n",
    "plt.ylabel('presents')\n",
    "plt.title('Percentage of Smokers Status Getting Health Insurance')\n",
    "plt.show()\n",
    "\n",
    "# mean of Charges by Smoker Category\n",
    "smoker__charge = df.groupby('smoker')['charges']  # mean charges by smoker group\n",
    "print(\"smoker_mean_charge: \\n\", smoker__charge.describe())\n",
    "# visualize relationship between mean of Charges by Smoker Category and smokers frequency\n",
    "smoker_mean_charge = smoker__charge.mean()\n",
    "plt.bar(smokers.index, smoker_mean_charge.values,\n",
    "        color=['lightgreen', \"lightblue\"])  # Plot bars with smoker category and mean values\n",
    "plt.xlabel('Smoker Category')\n",
    "plt.ylabel('mean of Charges')\n",
    "plt.title('Mean of Charges by Smoker Category')\n",
    "plt.show()\n",
    "\n",
    "# The number of subjects who do not smoke is 790 higher than those who smoke and receive insurance, i.e.\n",
    "# 60% more, which is interesting because non-smokers pay less 23615.97 mean.\n",
    "# We can understand that those who smoke will suffer more desires."
   ],
   "id": "a5c0be8673125d7f"
  },
  {
   "metadata": {},
   "cell_type": "code",
   "outputs": [],
   "execution_count": null,
   "source": [
    "# visualize relationship between smoker status and age frequency\n",
    "smoker_age = df.groupby('smoker')['age']  # age by smoker group\n",
    "print(\"smoker_age:\\n\", smoker_age.describe())\n",
    "colors = {'yes': 'lightgreen', 'no': 'lightblue'}\n",
    "plt.scatter(df.index, df['age'], c=df['smoker'].map(colors))\n",
    "plt.xlabel('Index')\n",
    "plt.ylabel('Age')\n",
    "plt.title('Age Distribution by Smoker Category')\n",
    "plt.legend(\n",
    "    handles=[plt.Line2D([0], [0], marker='o', color='w', markerfacecolor='lightgreen', markersize=10, label='Smoker'),\n",
    "             plt.Line2D([0], [0], marker='o', color='w', markerfacecolor='lightblue', markersize=10,\n",
    "                        label='Non-Smoker')])\n",
    "plt.show()\n",
    "# There is no correlation between age and status of a smoker."
   ],
   "id": "838bdbe3b5341231"
  },
  {
   "metadata": {},
   "cell_type": "code",
   "outputs": [],
   "execution_count": null,
   "source": [
    "# visualize relationship between smoker status and BMI\n",
    "smoker_bmi = df.groupby('smoker')['bmi'].mean()  # bmi by smoker group\n",
    "plt.bar(smokers.index, smoker_bmi.values,\n",
    "        color=['lightgreen', \"lightblue\"])  # Plot bars with smoker category and bmi values\n",
    "plt.xlabel('Smoker Category')\n",
    "plt.ylabel('BMI')\n",
    "plt.title('BMI by Smoker Category')\n",
    "plt.show()"
   ],
   "id": "6491c4f5926a68b9"
  },
  {
   "metadata": {},
   "cell_type": "code",
   "outputs": [],
   "execution_count": null,
   "source": [
    "# scatter of relationship between smoker status and BMI\n",
    "plt.scatter(df.age, df.bmi)\n",
    "plt.xlabel('Age')\n",
    "plt.ylabel('BMI')\n",
    "plt.title('BMI by Age')\n",
    "plt.show()\n",
    "#we can see there is no corallation between age and bmi to smokers"
   ],
   "id": "47533b857f7bca28"
  },
  {
   "metadata": {},
   "cell_type": "code",
   "outputs": [],
   "execution_count": null,
   "source": [
    "# To conclude, the only correlation between variables in this df is the status of smoker and the amount they are\n",
    "# charged of.\n",
    "# The number of subjects who do not smoke is 790 higher than those who smoke and receive insurance,\n",
    "# i.e. 60% more, which is interesting because non-smokers pay less 23615.97 mean. We can understand that those who\n",
    "# smoke will suffer more desires."
   ],
   "id": "2834a85a8ebc80b7"
  }
 ],
 "metadata": {
  "kernelspec": {
   "display_name": "Python 3",
   "language": "python",
   "name": "python3"
  },
  "language_info": {
   "codemirror_mode": {
    "name": "ipython",
    "version": 2
   },
   "file_extension": ".py",
   "mimetype": "text/x-python",
   "name": "python",
   "nbconvert_exporter": "python",
   "pygments_lexer": "ipython2",
   "version": "2.7.6"
  }
 },
 "nbformat": 4,
 "nbformat_minor": 5
}
